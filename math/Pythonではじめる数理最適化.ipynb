{
  "nbformat": 4,
  "nbformat_minor": 0,
  "metadata": {
    "colab": {
      "provenance": [],
      "authorship_tag": "ABX9TyOqN0EIg2EHlEl30hHIGtk6"
    },
    "kernelspec": {
      "name": "python3",
      "display_name": "Python 3"
    },
    "language_info": {
      "name": "python"
    }
  },
  "cells": [
    {
      "cell_type": "markdown",
      "source": [
        "Chapter 1"
      ],
      "metadata": {
        "id": "XM3W4D0AEnZk"
      }
    },
    {
      "cell_type": "code",
      "source": [
        "pip install pulp"
      ],
      "metadata": {
        "colab": {
          "base_uri": "https://localhost:8080/"
        },
        "id": "8bGJeErmElgT",
        "outputId": "1d2b57f0-31fd-4482-935b-224b0f72c463"
      },
      "execution_count": 1,
      "outputs": [
        {
          "output_type": "stream",
          "name": "stdout",
          "text": [
            "Looking in indexes: https://pypi.org/simple, https://us-python.pkg.dev/colab-wheels/public/simple/\n",
            "Collecting pulp\n",
            "  Downloading PuLP-2.7.0-py3-none-any.whl (14.3 MB)\n",
            "\u001b[2K     \u001b[90m━━━━━━━━━━━━━━━━━━━━━━━━━━━━━━━━━━━━━━━━\u001b[0m \u001b[32m14.3/14.3 MB\u001b[0m \u001b[31m37.5 MB/s\u001b[0m eta \u001b[36m0:00:00\u001b[0m\n",
            "\u001b[?25hInstalling collected packages: pulp\n",
            "Successfully installed pulp-2.7.0\n"
          ]
        }
      ]
    },
    {
      "cell_type": "code",
      "source": [
        "import pulp"
      ],
      "metadata": {
        "id": "vek0UGxxGkwB"
      },
      "execution_count": 3,
      "outputs": []
    },
    {
      "cell_type": "code",
      "source": [
        "problem = pulp.LpProblem('SLE', pulp.LpMaximize)\n",
        "\n",
        "x = pulp.LpVariable('x', cat='Integer')\n",
        "y = pulp.LpVariable('y', cat='Integer')\n",
        "\n",
        "problem += 120*x + 150*y == 1440\n",
        "problem += x + y == 10\n",
        "\n",
        "status = problem.solve()\n",
        "\n",
        "print('Status:', pulp.LpStatus[status])\n",
        "print('x=', x.value(), 'y=', y.value())"
      ],
      "metadata": {
        "colab": {
          "base_uri": "https://localhost:8080/"
        },
        "id": "ElYt3_M3GXTs",
        "outputId": "b166be0f-8818-4553-fdf8-4f636d66a754"
      },
      "execution_count": 13,
      "outputs": [
        {
          "output_type": "stream",
          "name": "stdout",
          "text": [
            "Status: Optimal\n",
            "x= 2.0 y= 8.0\n"
          ]
        }
      ]
    },
    {
      "cell_type": "code",
      "source": [],
      "metadata": {
        "id": "fwtPRAvoHdlQ"
      },
      "execution_count": null,
      "outputs": []
    }
  ]
}