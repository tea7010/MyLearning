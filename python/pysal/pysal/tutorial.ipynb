{
 "cells": [
  {
   "cell_type": "markdown",
   "id": "ethical-strain",
   "metadata": {},
   "source": [
    "https://pysal.org/libpysal/notebooks/weights.html"
   ]
  },
  {
   "cell_type": "code",
   "execution_count": 1,
   "id": "configured-enterprise",
   "metadata": {},
   "outputs": [],
   "source": [
    "import sys\n",
    "import os"
   ]
  },
  {
   "cell_type": "code",
   "execution_count": 2,
   "id": "according-arcade",
   "metadata": {},
   "outputs": [
    {
     "name": "stderr",
     "output_type": "stream",
     "text": [
      "/home/naoto/.cache/pypoetry/virtualenvs/pysal-yWLDyC0f-py3.8/lib/python3.8/site-packages/libpysal/weights/util.py:23: UserWarning: geopandas not available. Some functionality will be disabled.\n",
      "  warn(\"geopandas not available. Some functionality will be disabled.\")\n"
     ]
    }
   ],
   "source": [
    "sys.path.append(os.path.abspath('..'))\n",
    "import libpysal"
   ]
  },
  {
   "cell_type": "code",
   "execution_count": 3,
   "id": "built-riverside",
   "metadata": {},
   "outputs": [
    {
     "name": "stdout",
     "output_type": "stream",
     "text": [
      "                      Name                                                  Description  Installed\n",
      "0                    10740  Albuquerque, New Mexico, Census 2000 Tract Data. 10740 i...       True\n",
      "1                   AirBnB         Airbnb rentals, socioeconomics, and crime in Chicago      False\n",
      "2                  Atlanta                 Atlanta, GA region homicide counts and rates      False\n",
      "3                Baltimore                    Baltimore house sales prices and hedonics      False\n",
      "4                Bostonhsg                         Boston housing and neighborhood data      False\n",
      "5              Buenosaires                Electoral Data for 1999 Argentinean Elections      False\n",
      "6              Charleston1   2000 Census Tract Data for Charleston, SC MSA and counties      False\n",
      "7              Charleston2   1998 and 2001 Zip Code Business Patterns (Census Bureau...      False\n",
      "8           Chicago Health                             Chicago Health + Socio-Economics      False\n",
      "9          Chicago commpop   Chicago Community Area Population Percent Change for 20...      False\n",
      "10             Chile Labor                           Labor Markets in Chile (1982-2002)      False\n",
      "11         Chile Migration                      Internal Migration in Chile (1977-2002)      False\n",
      "12              Cincinnati                   2008 Cincinnati Crime + Socio-Demographics      False\n",
      "13               Cleveland                 2015 sales prices of homes in Cleveland, OH.      False\n",
      "14                Columbus                                  Columbus neighborhood crime      False\n",
      "15                  Denver            Demographics and housing in Denver neighborhoods.      False\n",
      "16               Elections                         2012 and 2016 Presidential Elections      False\n",
      "17                 Grid100                                Grid with simulated variables      False\n",
      "18               Groceries                                    2015 Chicago supermarkets      False\n",
      "19                  Guerry                    Moral statistics of France (Guerry, 1833)      False\n",
      "20       Health Indicators                          Chicago Health Indicators (2005-11)      False\n",
      "21                 Health+                              2000 Health, Income + Diversity      False\n",
      "22                Hickory1      2000 Census Tract Data for Hickory, NC MSA and counties      False\n",
      "23                Hickory2   1998 and 2001 Zip Code Business Patterns (Census Bureau...      False\n",
      "24              Home Sales                        2014-15 Home Sales in King County, WA      False\n",
      "25                 Houston                 Houston, TX region homicide counts and rates      False\n",
      "26                Juvenile                       Cardiff juvenile delinquent residences      False\n",
      "27                Lansing1      2000 Census Tract Data for Lansing, MI MSA and counties      False\n",
      "28                Lansing2   1998 and 2001 Zip Code Business Patterns (Census Bureau...      False\n",
      "29                 Laozone   Ozone measures at monitoring stations in Los Angeles basin      False\n",
      "30                LasRosas   Corn yield, fertilizer and field data for precision agr...      False\n",
      "31                    Line                                               Line Shapefile       True\n",
      "32           Liquor Stores                                   2015 Chicago Liquor Stores      False\n",
      "33                 Malaria   Malaria incidence and population (1973, 95, 93 censuses...      False\n",
      "34              Milwaukee1                 2000 Census Tract Data for Milwaukee, WI MSA      False\n",
      "35              Milwaukee2   1998 and 2001 Zip Code Business Patterns (Census Bureau...      False\n",
      "36                   NCOVR                                US county homicides 1960-1990      False\n",
      "37                    NDVI                  Normalized Difference Vegetation Index grid      False\n",
      "38                     NYC   Demographic and housing data for New York City subborou...      False\n",
      "39            NYC Earnings                        Block-level Earnings in NYC (2002-14)      False\n",
      "40           NYC Education                                         NYC Education (2000)      False\n",
      "41       NYC Neighborhoods                 Demographics for New York City neighborhoods      False\n",
      "42  NYC Socio-Demographics                           NYC Education + Socio-Demographics      False\n",
      "43              Natregimes                              NCOVR with regimes (book/PySAL)      False\n",
      "44                   Nepal   Health, poverty and education indicators for Nepal dist...      False\n",
      "45                Ohiolung                      Ohio lung cancer data, 1968, 1978, 1988      False\n",
      "46                Orlando1      2000 Census Tract Data for Orlando, FL MSA and counties      False\n",
      "47                Orlando2   1998 and 2001 Zip Code Business Patterns (Census Bureau...      False\n",
      "48                  Oz9799                                  Monthly ozone data, 1997-99      False\n",
      "49             Phoenix ACS   Phoenix American Community Survey Data (2010, 5-year av...      False\n",
      "50              Pittsburgh                                Pittsburgh homicide locations      False\n",
      "51                   Point                                              Point Shapefile       True\n",
      "52                  Police                     Police expenditures Mississippi counties      False\n",
      "53                 Polygon                                            Polygon Shapefile       True\n",
      "54           Polygon_Holes                           Example to test treatment of holes       True\n",
      "55       Rio Grande do Sul           Cities of the Brazilian State of Rio Grande do Sul      False\n",
      "56                    SIDS                      North Carolina county SIDS death counts      False\n",
      "57                   SIDS2            North Carolina county SIDS death counts and rates      False\n",
      "58             Sacramento1                    2000 Census Tract Data for Sacramento MSA      False\n",
      "59             Sacramento2   1998 and 2001 Zip Code Business Patterns (Census Bureau...      False\n",
      "60           SanFran Crime   July-Dec 2012 crime incidents in San Francisco (points ...      False\n",
      "61               Savannah1     2000 Census Tract Data for Savannah, GA MSA and counties      False\n",
      "62               Savannah2   1998 and 2001 Zip Code Business Patterns (Census Bureau...      False\n",
      "63                 Scotlip                         Male lip cancer in Scotland, 1975-80      False\n",
      "64                Seattle1      2000 Census Tract Data for Seattle, WA MSA and counties      False\n",
      "65                Seattle2   1998 and 2001 Zip Code Business Patterns (Census Bureau...      False\n",
      "66                    Snow                John Snow & the 19th Century Cholera Epidemic      False\n",
      "67                   South                       US Southern county homicides 1960-1990      False\n",
      "68                 Spirals                                      Synthetic spiral points      False\n",
      "69                 StLouis             St Louis region county homicide counts and rates      False\n",
      "70                  Tampa1        2000 Census Tract Data for Tampa, FL MSA and counties      False\n",
      "71                 US SDOH                   2014 US Social Determinants of Health Data      False\n",
      "72                  arcgis                                         arcgis testing files       True\n",
      "73                  baltim             Baltimore house sales prices and hedonics, 1978.       True\n",
      "74                  berlin         Prenzlauer Berg neighborhood AirBnB data from Berlin       True\n",
      "75                    book                 Synthetic data to illustrate spatial weights       True\n",
      "76                 burkitt    Burkitt's lymphoma in the Western Nile district of Uganda       True\n",
      "77                  calemp                   Employment density for California counties       True\n",
      "78                 chicago                                        Chicago neighborhoods       True\n",
      "79              clearwater                                         mgwr testing dataset      False\n",
      "80                columbus                        Columbus neighborhood crime data 1980       True\n",
      "81                 desmith              Small dataset to illustrate Moran's I statistic       True\n",
      "82                geodanet                  Datasets from GeoDaNet for network analysis       True\n",
      "83                 georgia  Various socio-economic variables for counties within the...       True\n",
      "84                juvenile              Residences of juvenile offenders in Cardiff, UK       True\n",
      "85                  mexico     Decennial per capita incomes of Mexican states 1940-2000       True\n",
      "86                networks                            Datasets used for network testing       True\n",
      "87                newHaven                                      Network testing dataset      False\n",
      "88               nyc_bikes                                     New York City Bike Trips      False\n",
      "89                   sids2            North Carolina county SIDS death counts and rates       True\n",
      "90               snow_maps  Public water pumps and Cholera deaths in London 1854 (Jo...       True\n",
      "91                     stl  Homicides and selected socio-economic characteristics fo...       True\n",
      "92          street_net_pts                                        Street network points       True\n",
      "93                     taz                     Traffic Analysis Zones in So. California      False\n",
      "94                   tokyo                                         Tokyo Mortality data       True\n",
      "95               us_income       Per-capita income for the lower 48 US states 1929-2009       True\n",
      "96                virginia                                  Virginia counties shapefile       True\n",
      "97                    wmat                    Datasets used for spatial weights testing       True\n"
     ]
    }
   ],
   "source": [
    "libpysal.examples.available()"
   ]
  },
  {
   "cell_type": "code",
   "execution_count": 4,
   "id": "proved-region",
   "metadata": {},
   "outputs": [
    {
     "name": "stdout",
     "output_type": "stream",
     "text": [
      "mexico\n",
      "======\n",
      "\n",
      "Decennial per capita incomes of Mexican states 1940-2000\n",
      "--------------------------------------------------------\n",
      "\n",
      "* mexico.csv: attribute data. (n=32, k=13)\n",
      "* mexico.gal: spatial weights in GAL format.\n",
      "* mexicojoin.shp: Polygon shapefile. (n=32)\n",
      "\n",
      "Data used in Rey, S.J. and M.L. Sastre Gutierrez. (2010) \"Interregional inequality dynamics in Mexico.\" Spatial Economic Analysis, 5: 277-298.\n",
      "\n"
     ]
    }
   ],
   "source": [
    "libpysal.examples.explain('mexico')"
   ]
  },
  {
   "cell_type": "code",
   "execution_count": 6,
   "id": "intellectual-strap",
   "metadata": {},
   "outputs": [],
   "source": [
    "import geopandas\n",
    "pth = libpysal.examples.get_path(\"mexicojoin.shp\")\n",
    "gdf = geopandas.read_file(pth)\n",
    "\n",
    "from libpysal.weights import Queen, Rook, KNN"
   ]
  },
  {
   "cell_type": "code",
   "execution_count": 8,
   "id": "isolated-document",
   "metadata": {},
   "outputs": [],
   "source": [
    "%matplotlib inline\n",
    "import matplotlib.pyplot as plt"
   ]
  },
  {
   "cell_type": "code",
   "execution_count": 10,
   "id": "funded-filename",
   "metadata": {},
   "outputs": [
    {
     "data": {
      "image/png": "[encoded data removed]",
      "text/plain": [
       "<Figure size 432x288 with 1 Axes>"
      ]
     },
     "metadata": {
      "needs_background": "light"
     },
     "output_type": "display_data"
    }
   ],
   "source": [
    "ax = gdf.plot()\n",
    "ax.set_axis_off()"
   ]
  },
  {
   "cell_type": "code",
   "execution_count": 12,
   "id": "waiting-preliminary",
   "metadata": {},
   "outputs": [
    {
     "data": {
      "text/html": [
       "<div>\n",
       "<style scoped>\n",
       "    .dataframe tbody tr th:only-of-type {\n",
       "        vertical-align: middle;\n",
       "    }\n",
       "\n",
       "    .dataframe tbody tr th {\n",
       "        vertical-align: top;\n",
       "    }\n",
       "\n",
       "    .dataframe thead th {\n",
       "        text-align: right;\n",
       "    }\n",
       "</style>\n",
       "<table border=\"1\" class=\"dataframe\">\n",
       "  <thead>\n",
       "    <tr style=\"text-align: right;\">\n",
       "      <th></th>\n",
       "      <th>POLY_ID</th>\n",
       "      <th>AREA</th>\n",
       "      <th>CODE</th>\n",
       "      <th>NAME</th>\n",
       "      <th>PERIMETER</th>\n",
       "      <th>ACRES</th>\n",
       "      <th>HECTARES</th>\n",
       "      <th>PCGDP1940</th>\n",
       "      <th>PCGDP1950</th>\n",
       "      <th>PCGDP1960</th>\n",
       "      <th>...</th>\n",
       "      <th>GR9000</th>\n",
       "      <th>LPCGDP40</th>\n",
       "      <th>LPCGDP50</th>\n",
       "      <th>LPCGDP60</th>\n",
       "      <th>LPCGDP70</th>\n",
       "      <th>LPCGDP80</th>\n",
       "      <th>LPCGDP90</th>\n",
       "      <th>LPCGDP00</th>\n",
       "      <th>TEST</th>\n",
       "      <th>geometry</th>\n",
       "    </tr>\n",
       "  </thead>\n",
       "  <tbody>\n",
       "    <tr>\n",
       "      <th>0</th>\n",
       "      <td>1</td>\n",
       "      <td>7.252751e+10</td>\n",
       "      <td>MX02</td>\n",
       "      <td>Baja California Norte</td>\n",
       "      <td>2040312.385</td>\n",
       "      <td>1.792187e+07</td>\n",
       "      <td>7252751.376</td>\n",
       "      <td>22361.0</td>\n",
       "      <td>20977.0</td>\n",
       "      <td>17865.0</td>\n",
       "      <td>...</td>\n",
       "      <td>0.05</td>\n",
       "      <td>4.35</td>\n",
       "      <td>4.32</td>\n",
       "      <td>4.25</td>\n",
       "      <td>4.40</td>\n",
       "      <td>4.47</td>\n",
       "      <td>4.43</td>\n",
       "      <td>4.48</td>\n",
       "      <td>1.0</td>\n",
       "      <td>MULTIPOLYGON (((-113.13972 29.01778, -113.2405...</td>\n",
       "    </tr>\n",
       "    <tr>\n",
       "      <th>1</th>\n",
       "      <td>2</td>\n",
       "      <td>7.225988e+10</td>\n",
       "      <td>MX03</td>\n",
       "      <td>Baja California Sur</td>\n",
       "      <td>2912880.772</td>\n",
       "      <td>1.785573e+07</td>\n",
       "      <td>7225987.769</td>\n",
       "      <td>9573.0</td>\n",
       "      <td>16013.0</td>\n",
       "      <td>16707.0</td>\n",
       "      <td>...</td>\n",
       "      <td>0.00</td>\n",
       "      <td>3.98</td>\n",
       "      <td>4.20</td>\n",
       "      <td>4.22</td>\n",
       "      <td>4.39</td>\n",
       "      <td>4.46</td>\n",
       "      <td>4.41</td>\n",
       "      <td>4.42</td>\n",
       "      <td>2.0</td>\n",
       "      <td>MULTIPOLYGON (((-111.20612 25.80278, -111.2302...</td>\n",
       "    </tr>\n",
       "    <tr>\n",
       "      <th>2</th>\n",
       "      <td>3</td>\n",
       "      <td>2.731957e+10</td>\n",
       "      <td>MX18</td>\n",
       "      <td>Nayarit</td>\n",
       "      <td>1034770.341</td>\n",
       "      <td>6.750785e+06</td>\n",
       "      <td>2731956.859</td>\n",
       "      <td>4836.0</td>\n",
       "      <td>7515.0</td>\n",
       "      <td>7621.0</td>\n",
       "      <td>...</td>\n",
       "      <td>-0.05</td>\n",
       "      <td>3.68</td>\n",
       "      <td>3.88</td>\n",
       "      <td>3.88</td>\n",
       "      <td>4.04</td>\n",
       "      <td>4.13</td>\n",
       "      <td>4.11</td>\n",
       "      <td>4.06</td>\n",
       "      <td>3.0</td>\n",
       "      <td>MULTIPOLYGON (((-106.62108 21.56531, -106.6475...</td>\n",
       "    </tr>\n",
       "    <tr>\n",
       "      <th>3</th>\n",
       "      <td>4</td>\n",
       "      <td>7.961008e+10</td>\n",
       "      <td>MX14</td>\n",
       "      <td>Jalisco</td>\n",
       "      <td>2324727.436</td>\n",
       "      <td>1.967200e+07</td>\n",
       "      <td>7961008.285</td>\n",
       "      <td>5309.0</td>\n",
       "      <td>8232.0</td>\n",
       "      <td>9953.0</td>\n",
       "      <td>...</td>\n",
       "      <td>0.03</td>\n",
       "      <td>3.73</td>\n",
       "      <td>3.92</td>\n",
       "      <td>4.00</td>\n",
       "      <td>4.21</td>\n",
       "      <td>4.32</td>\n",
       "      <td>4.30</td>\n",
       "      <td>4.33</td>\n",
       "      <td>4.0</td>\n",
       "      <td>POLYGON ((-101.52490 21.85664, -101.58830 21.7...</td>\n",
       "    </tr>\n",
       "    <tr>\n",
       "      <th>4</th>\n",
       "      <td>5</td>\n",
       "      <td>5.467030e+09</td>\n",
       "      <td>MX01</td>\n",
       "      <td>Aguascalientes</td>\n",
       "      <td>313895.530</td>\n",
       "      <td>1.350927e+06</td>\n",
       "      <td>546702.985</td>\n",
       "      <td>10384.0</td>\n",
       "      <td>6234.0</td>\n",
       "      <td>8714.0</td>\n",
       "      <td>...</td>\n",
       "      <td>0.13</td>\n",
       "      <td>4.02</td>\n",
       "      <td>3.79</td>\n",
       "      <td>3.94</td>\n",
       "      <td>4.21</td>\n",
       "      <td>4.32</td>\n",
       "      <td>4.32</td>\n",
       "      <td>4.44</td>\n",
       "      <td>5.0</td>\n",
       "      <td>POLYGON ((-101.84620 22.01176, -101.96530 21.8...</td>\n",
       "    </tr>\n",
       "  </tbody>\n",
       "</table>\n",
       "<p>5 rows × 35 columns</p>\n",
       "</div>"
      ],
      "text/plain": [
       "   POLY_ID          AREA  CODE                   NAME    PERIMETER  \\\n",
       "0        1  7.252751e+10  MX02  Baja California Norte  2040312.385   \n",
       "1        2  7.225988e+10  MX03    Baja California Sur  2912880.772   \n",
       "2        3  2.731957e+10  MX18                Nayarit  1034770.341   \n",
       "3        4  7.961008e+10  MX14                Jalisco  2324727.436   \n",
       "4        5  5.467030e+09  MX01         Aguascalientes   313895.530   \n",
       "\n",
       "          ACRES     HECTARES  PCGDP1940  PCGDP1950  PCGDP1960  ...  GR9000  \\\n",
       "0  1.792187e+07  7252751.376    22361.0    20977.0    17865.0  ...    0.05   \n",
       "1  1.785573e+07  7225987.769     9573.0    16013.0    16707.0  ...    0.00   \n",
       "2  6.750785e+06  2731956.859     4836.0     7515.0     7621.0  ...   -0.05   \n",
       "3  1.967200e+07  7961008.285     5309.0     8232.0     9953.0  ...    0.03   \n",
       "4  1.350927e+06   546702.985    10384.0     6234.0     8714.0  ...    0.13   \n",
       "\n",
       "   LPCGDP40  LPCGDP50  LPCGDP60  LPCGDP70  LPCGDP80  LPCGDP90  LPCGDP00  TEST  \\\n",
       "0      4.35      4.32      4.25      4.40      4.47      4.43      4.48   1.0   \n",
       "1      3.98      4.20      4.22      4.39      4.46      4.41      4.42   2.0   \n",
       "2      3.68      3.88      3.88      4.04      4.13      4.11      4.06   3.0   \n",
       "3      3.73      3.92      4.00      4.21      4.32      4.30      4.33   4.0   \n",
       "4      4.02      3.79      3.94      4.21      4.32      4.32      4.44   5.0   \n",
       "\n",
       "                                            geometry  \n",
       "0  MULTIPOLYGON (((-113.13972 29.01778, -113.2405...  \n",
       "1  MULTIPOLYGON (((-111.20612 25.80278, -111.2302...  \n",
       "2  MULTIPOLYGON (((-106.62108 21.56531, -106.6475...  \n",
       "3  POLYGON ((-101.52490 21.85664, -101.58830 21.7...  \n",
       "4  POLYGON ((-101.84620 22.01176, -101.96530 21.8...  \n",
       "\n",
       "[5 rows x 35 columns]"
      ]
     },
     "execution_count": 12,
     "metadata": {},
     "output_type": "execute_result"
    }
   ],
   "source": [
    "gdf.head()"
   ]
  },
  {
   "cell_type": "code",
   "execution_count": 15,
   "id": "complete-airport",
   "metadata": {},
   "outputs": [
    {
     "data": {
      "text/plain": [
       "32"
      ]
     },
     "execution_count": 15,
     "metadata": {},
     "output_type": "execute_result"
    }
   ],
   "source": [
    "w_rook = Rook.from_dataframe(gdf)\n",
    "w_rook.n"
   ]
  },
  {
   "cell_type": "code",
   "execution_count": 16,
   "id": "neural-tooth",
   "metadata": {},
   "outputs": [
    {
     "data": {
      "text/plain": [
       "12.6953125"
      ]
     },
     "execution_count": 16,
     "metadata": {},
     "output_type": "execute_result"
    }
   ],
   "source": [
    "w_rook.pct_nonzero"
   ]
  },
  {
   "cell_type": "code",
   "execution_count": 17,
   "id": "direct-hawaii",
   "metadata": {},
   "outputs": [
    {
     "data": {
      "image/png": "[encoded data removed]",
      "text/plain": [
       "<Figure size 432x288 with 1 Axes>"
      ]
     },
     "metadata": {
      "needs_background": "light"
     },
     "output_type": "display_data"
    }
   ],
   "source": [
    "ax = gdf.plot(edgecolor='grey', facecolor='w')\n",
    "f,ax = w_rook.plot(gdf, ax=ax,\n",
    "        edge_kws=dict(color='r', linestyle=':', linewidth=1),\n",
    "        node_kws=dict(marker=''))\n",
    "ax.set_axis_off()"
   ]
  },
  {
   "cell_type": "code",
   "execution_count": null,
   "id": "tutorial-speaker",
   "metadata": {},
   "outputs": [],
   "source": []
  }
 ],
 "metadata": {
  "kernelspec": {
   "display_name": "Python 3",
   "language": "python",
   "name": "python3"
  },
  "language_info": {
   "codemirror_mode": {
    "name": "ipython",
    "version": 3
   },
   "file_extension": ".py",
   "mimetype": "text/x-python",
   "name": "python",
   "nbconvert_exporter": "python",
   "pygments_lexer": "ipython3",
   "version": "3.8.0"
  }
 },
 "nbformat": 4,
 "nbformat_minor": 5
}
