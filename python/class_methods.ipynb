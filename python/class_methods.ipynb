{
 "cells": [
  {
   "cell_type": "markdown",
   "id": "psychological-discussion",
   "metadata": {},
   "source": [
    "## static methodのクラス変数アクセス"
   ]
  },
  {
   "cell_type": "code",
   "execution_count": 1,
   "id": "differential-safety",
   "metadata": {},
   "outputs": [],
   "source": [
    "class C:\n",
    "    val = 20\n",
    "    def __init__(self):\n",
    "        self.val = 1\n",
    "\n",
    "    def normal_method(self, v):\n",
    "        return self.val + v + 2\n",
    "    \n",
    "    @classmethod\n",
    "    def class_method(cls, v):\n",
    "        return cls.val + v + 3\n",
    "    \n",
    "    @staticmethod\n",
    "    def static_method(v):\n",
    "        return C.val + v + 4"
   ]
  },
  {
   "cell_type": "code",
   "execution_count": 2,
   "id": "arabic-prerequisite",
   "metadata": {},
   "outputs": [],
   "source": [
    "c = C()"
   ]
  },
  {
   "cell_type": "code",
   "execution_count": 3,
   "id": "ecological-darkness",
   "metadata": {},
   "outputs": [
    {
     "data": {
      "text/plain": [
       "1"
      ]
     },
     "execution_count": 3,
     "metadata": {},
     "output_type": "execute_result"
    }
   ],
   "source": [
    "c.val"
   ]
  },
  {
   "cell_type": "code",
   "execution_count": 4,
   "id": "ahead-statement",
   "metadata": {},
   "outputs": [
    {
     "data": {
      "text/plain": [
       "7"
      ]
     },
     "execution_count": 4,
     "metadata": {},
     "output_type": "execute_result"
    }
   ],
   "source": [
    "c.normal_method(4)"
   ]
  },
  {
   "cell_type": "code",
   "execution_count": 5,
   "id": "informative-circulation",
   "metadata": {},
   "outputs": [
    {
     "data": {
      "text/plain": [
       "27"
      ]
     },
     "execution_count": 5,
     "metadata": {},
     "output_type": "execute_result"
    }
   ],
   "source": [
    "c.class_method(4)"
   ]
  },
  {
   "cell_type": "code",
   "execution_count": 6,
   "id": "provincial-swedish",
   "metadata": {},
   "outputs": [
    {
     "data": {
      "text/plain": [
       "1"
      ]
     },
     "execution_count": 6,
     "metadata": {},
     "output_type": "execute_result"
    }
   ],
   "source": [
    "c.val"
   ]
  },
  {
   "cell_type": "code",
   "execution_count": 7,
   "id": "forced-diagram",
   "metadata": {},
   "outputs": [
    {
     "data": {
      "text/plain": [
       "28"
      ]
     },
     "execution_count": 7,
     "metadata": {},
     "output_type": "execute_result"
    }
   ],
   "source": [
    "c.static_method(4)"
   ]
  },
  {
   "cell_type": "code",
   "execution_count": 8,
   "id": "patent-performer",
   "metadata": {},
   "outputs": [
    {
     "data": {
      "text/plain": [
       "29"
      ]
     },
     "execution_count": 8,
     "metadata": {},
     "output_type": "execute_result"
    }
   ],
   "source": [
    "C.static_method(5)"
   ]
  },
  {
   "cell_type": "code",
   "execution_count": 9,
   "id": "automated-faith",
   "metadata": {},
   "outputs": [
    {
     "data": {
      "text/plain": [
       "20"
      ]
     },
     "execution_count": 9,
     "metadata": {},
     "output_type": "execute_result"
    }
   ],
   "source": [
    "C.val"
   ]
  },
  {
   "cell_type": "code",
   "execution_count": 10,
   "id": "effective-contribution",
   "metadata": {},
   "outputs": [
    {
     "data": {
      "text/plain": [
       "1"
      ]
     },
     "execution_count": 10,
     "metadata": {},
     "output_type": "execute_result"
    }
   ],
   "source": [
    "C().val"
   ]
  },
  {
   "cell_type": "code",
   "execution_count": 11,
   "id": "tender-offense",
   "metadata": {},
   "outputs": [],
   "source": [
    "C.val = 3"
   ]
  },
  {
   "cell_type": "code",
   "execution_count": 12,
   "id": "japanese-transcription",
   "metadata": {},
   "outputs": [
    {
     "data": {
      "text/plain": [
       "3"
      ]
     },
     "execution_count": 12,
     "metadata": {},
     "output_type": "execute_result"
    }
   ],
   "source": [
    "C.val"
   ]
  },
  {
   "cell_type": "code",
   "execution_count": 14,
   "id": "qualified-organic",
   "metadata": {},
   "outputs": [],
   "source": [
    "function = 1"
   ]
  },
  {
   "cell_type": "code",
   "execution_count": 15,
   "id": "established-costume",
   "metadata": {},
   "outputs": [
    {
     "data": {
      "text/plain": [
       "1"
      ]
     },
     "execution_count": 15,
     "metadata": {},
     "output_type": "execute_result"
    }
   ],
   "source": [
    "function"
   ]
  },
  {
   "cell_type": "markdown",
   "id": "planned-disaster",
   "metadata": {},
   "source": [
    "## f記法中に改行OKかテスト"
   ]
  },
  {
   "cell_type": "code",
   "execution_count": 20,
   "id": "significant-portrait",
   "metadata": {},
   "outputs": [
    {
     "data": {
      "text/plain": [
       "'aaaaaa aaaa 1'"
      ]
     },
     "execution_count": 20,
     "metadata": {},
     "output_type": "execute_result"
    }
   ],
   "source": [
    "f'aaaaaa \\\n",
    "aaaa {function}'"
   ]
  },
  {
   "cell_type": "markdown",
   "id": "automotive-submission",
   "metadata": {},
   "source": [
    "## リストのN個の要素での分割"
   ]
  },
  {
   "cell_type": "code",
   "execution_count": 4,
   "id": "ethical-shock",
   "metadata": {},
   "outputs": [
    {
     "name": "stdout",
     "output_type": "stream",
     "text": [
      "[['geeks', 'for', 'geeks', 'like', 'geeky'], ['nerdy', 'geek', 'love', 'questions', 'words'], ['life']]\n"
     ]
    }
   ],
   "source": [
    "my_list = ['geeks', 'for', 'geeks', 'like', \n",
    "           'geeky','nerdy', 'geek', 'love', \n",
    "               'questions','words', 'life'] \n",
    "  \n",
    "# Yield successive n-sized \n",
    "# chunks from l. \n",
    "def divide_chunks(l, n): \n",
    "    # looping till length l \n",
    "    for i in range(0, len(l), n):  \n",
    "        yield l[i:i + n] \n",
    "  \n",
    "# How many elements each \n",
    "# list should have \n",
    "n = 5\n",
    "  \n",
    "x = list(divide_chunks(my_list, n)) \n",
    "print (x) "
   ]
  },
  {
   "cell_type": "code",
   "execution_count": 10,
   "id": "friendly-photography",
   "metadata": {},
   "outputs": [
    {
     "data": {
      "text/plain": [
       "[[1, 2, 3, 4], [5, 6, 7, 8], [9]]"
      ]
     },
     "execution_count": 10,
     "metadata": {},
     "output_type": "execute_result"
    }
   ],
   "source": [
    "def divide_chunks(l, n):\n",
    "    return [l[i:i + n] for i in range(0, len(l), n)]  \n",
    "\n",
    "l = [1, 2, 3, 4, 5, 6, 7, 8, 9]  \n",
    "divide_chunks(l, 4)"
   ]
  },
  {
   "cell_type": "code",
   "execution_count": 12,
   "id": "charged-glucose",
   "metadata": {},
   "outputs": [
    {
     "data": {
      "text/plain": [
       "[[1, 2, 3, 4, 5, 6, 7, 8, 9]]"
      ]
     },
     "execution_count": 12,
     "metadata": {},
     "output_type": "execute_result"
    }
   ],
   "source": [
    "divide_chunks(l, 1000)"
   ]
  },
  {
   "cell_type": "code",
   "execution_count": 13,
   "id": "impressive-hudson",
   "metadata": {},
   "outputs": [
    {
     "data": {
      "text/plain": [
       "[[1, 2, 3, 4, 5, 6, 7, 8, 9]]"
      ]
     },
     "execution_count": 13,
     "metadata": {},
     "output_type": "execute_result"
    }
   ],
   "source": [
    "divide_chunks(l, 10000)"
   ]
  },
  {
   "cell_type": "code",
   "execution_count": 14,
   "id": "intimate-beach",
   "metadata": {},
   "outputs": [],
   "source": [
    "for i in [['a', 'b']]:\n",
    "    pass"
   ]
  },
  {
   "cell_type": "code",
   "execution_count": 15,
   "id": "brown-break",
   "metadata": {},
   "outputs": [
    {
     "data": {
      "text/plain": [
       "['a', 'b']"
      ]
     },
     "execution_count": 15,
     "metadata": {},
     "output_type": "execute_result"
    }
   ],
   "source": [
    "i"
   ]
  },
  {
   "cell_type": "code",
   "execution_count": null,
   "id": "discrete-lightweight",
   "metadata": {},
   "outputs": [],
   "source": []
  }
 ],
 "metadata": {
  "kernelspec": {
   "display_name": "Python 3",
   "language": "python",
   "name": "python3"
  },
  "language_info": {
   "codemirror_mode": {
    "name": "ipython",
    "version": 3
   },
   "file_extension": ".py",
   "mimetype": "text/x-python",
   "name": "python",
   "nbconvert_exporter": "python",
   "pygments_lexer": "ipython3",
   "version": "3.9.0"
  }
 },
 "nbformat": 4,
 "nbformat_minor": 5
}
